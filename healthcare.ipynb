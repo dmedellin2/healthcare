{
 "cells": [
  {
   "cell_type": "markdown",
   "metadata": {},
   "source": [
    "# Family Medical Care Delayed"
   ]
  },
  {
   "cell_type": "markdown",
   "metadata": {},
   "source": [
    "### Danielle Medellin"
   ]
  },
  {
   "cell_type": "markdown",
   "metadata": {},
   "source": [
    "## Problem Statement\n",
    "\n",
    "\"The National Health Interview Survey (NHIS) is conducted annually by the National Center for Health Statistics (NCHS). The NHIS administers face-to-face interviews in a nationally representative sample of households. Each month a probability sample of the civilian non-institutionalized population of the United States is interviewed by personnel of the U.S. Bureau of the Census. Information is obtained about the health and other characteristics of each member of the household.\"\n",
    "\n",
    "The 2018 NHIS consists of five questionnaires - Household, Family, Adult, Child, and Cover. For the purposes of this project, we will only be focusing on the Family questionnaire and data. \n",
    "\n",
    "\"The 2018 NHIS contains the core questions, enhanced questions on health care access and utilization, and additional supplemental questions in the Family questionnaire on the subject of food security.\"\n",
    "\n",
    "Using this information, we will try to determine what factors could potentially lead to a family resisting seeking out medical care due to worries regarding the cost. Based on a family's profile, can we predict the likelihood of a member of that family delaying care. "
   ]
  },
  {
   "cell_type": "markdown",
   "metadata": {},
   "source": [
    "## Table of Contents\n",
    "- [Library Import](#Import-Libraries)\n",
    "- [Data Import](#Import-Data)\n",
    "- [Data Cleaning](#Data-Cleaning)"
   ]
  },
  {
   "cell_type": "markdown",
   "metadata": {},
   "source": [
    "## Resources\n",
    "\n",
    "https://www.cdc.gov/reproductivehealth/data_stats/index.htm\n",
    "\n",
    "https://www.cdc.gov/nchs/hus/contents2018.htm?search=,,\n",
    "\n",
    "https://www.cdc.gov/nchs/nhis/data-questionnaires-documentation.htm *****\n",
    "\n",
    "2018 NATIONAL HEALTH INTERVIEW SURVEY (NHIS) June 27, 2019 PUBLIC USE DATA RELEASE (Readme pdf)"
   ]
  },
  {
   "cell_type": "markdown",
   "metadata": {},
   "source": [
    "DURING THE PAST 12 MONTHS, has medical care been delayed for {you/anyone in the family} because of worry about the cost?\n",
    "\n",
    "DURING THE PAST 12 MONTHS, was there any time when {you/someone in the family} needed medical care, but did not get it because {you/the family} couldn't afford it?"
   ]
  },
  {
   "cell_type": "markdown",
   "metadata": {},
   "source": [
    "## Import Libraries\n",
    "[Back to ToC](#Table-of-Contents)"
   ]
  },
  {
   "cell_type": "code",
   "execution_count": 1,
   "metadata": {},
   "outputs": [],
   "source": [
    "import numpy as np\n",
    "import pandas as pd\n",
    "import matplotlib.pyplot as plt\n",
    "import seaborn as sns"
   ]
  },
  {
   "cell_type": "markdown",
   "metadata": {},
   "source": [
    "## Import Data\n",
    "[Back to ToC](#Table-of-Contents)"
   ]
  },
  {
   "cell_type": "code",
   "execution_count": 10,
   "metadata": {},
   "outputs": [],
   "source": [
    "data = pd.read_csv('familyxx.csv')"
   ]
  },
  {
   "cell_type": "code",
   "execution_count": 91,
   "metadata": {},
   "outputs": [
    {
     "data": {
      "text/plain": [
       "(30309, 127)"
      ]
     },
     "execution_count": 91,
     "metadata": {},
     "output_type": "execute_result"
    }
   ],
   "source": [
    "data.shape"
   ]
  },
  {
   "cell_type": "markdown",
   "metadata": {},
   "source": [
    "Our dataset has 127 columns with 30,309 observations. "
   ]
  },
  {
   "cell_type": "markdown",
   "metadata": {},
   "source": [
    "## Data Cleaning\n",
    "[Back to ToC](#Table-of-Contents)"
   ]
  },
  {
   "cell_type": "code",
   "execution_count": 29,
   "metadata": {},
   "outputs": [],
   "source": [
    "features = ['FM_SIZE', 'FM_TYPE','FLNGINTV', 'FM_KIDS', 'FM_ELDR','FM_EDUC1',\n",
    "           'F10DVCT', 'FDMEDCT', 'FHOSP2CT', 'FNMEDCT', 'FSRUNOUT', 'FSBALANC',\n",
    "            'FHSTATEX', 'FHSTATVG', 'FHSTATG', 'FHSTATFR', 'FHSTATPR', 'FSNAPMYR',\n",
    "            'INCGRP5', 'FHIPRVCT', 'FHICARCT', 'FHICADCT', 'FHICOST', 'FMEDBILL', \n",
    "            'FHICOVCT', 'FHIEBCCT'\n",
    "           ]"
   ]
  },
  {
   "cell_type": "code",
   "execution_count": 81,
   "metadata": {},
   "outputs": [],
   "source": [
    "# new column names \n",
    "new_col_names = {'FM_SIZE' : 'fam_size',\n",
    "                'FM_TYPE' : 'fam_type',\n",
    "                'FLNGINTV' : 'language',\n",
    "                 'FM_KIDS' : 'num_child',\n",
    "                 'FM_ELDR' : 'num_elder',\n",
    "                 'FM_EDUC1': 'max_educ',\n",
    "                 'F10DVCT' : 'care_10', # 12 mo\n",
    "                 'FDMEDCT' : 'care_delayed', # 12 mo\n",
    "                 'FHOSP2CT': 'hosp_ovrngt', # 12 mo\n",
    "                 'FNMEDCT' : 'no_care_when_need', # 12 mo\n",
    "                 'FSRUNOUT' : 'food_runout', # 30 days\n",
    "                 'FSBALANC' : 'food_balance', # 30 days\n",
    "                 'FHSTATEX' : 'health_ex',\n",
    "                 'FHSTATVG' : 'health_vg',\n",
    "                 'FHSTATG' : 'health_g',\n",
    "                 'FHSTATFR' : 'health_fr',\n",
    "                 'FHSTATPR' : 'health_pr',\n",
    "                 'FSNAPMYR' : 'mos_snap_ben', # last cal yr\n",
    "                 'INCGRP5' : 'fam_income', \n",
    "                 'FHIPRVCT' : 'priv_health_ins',\n",
    "                 'FHICARCT' : 'num_medicare',\n",
    "                 'FHICADCT' : 'num_medicaid',\n",
    "                 'FHICOST' : 'fam_med_den_cost',\n",
    "                 'FMEDBILL' : 'difficult_pay_bills',\n",
    "                 'FHICOVCT' : 'health_cov',\n",
    "                 'FHIEBCCT' : 'employer_cov'\n",
    "                }\n",
    "\n",
    "# replacing ordinal values with human readable values \n",
    "# 'fam_type'\n",
    "family_types = {1 : 'one_adult_no_child',\n",
    "               2 : 'mult_adult_no_child',\n",
    "               3 : 'one_adult_child',\n",
    "               4 : 'mult_adult_child',\n",
    "               9 : 'unknown'}\n",
    "\n",
    "# 'language'\n",
    "languages = {1 :'english',\n",
    "             2 : 'spanish',\n",
    "             3 : 'english_spanish',\n",
    "             4 : 'other',\n",
    "             8 : 'not_ascertained'}\n",
    "\n",
    "# 'max_educ'\n",
    "education = {\n",
    "    1: 'no_hs_diploma',\n",
    "    2: 'no_hs_diploma',\n",
    "    3: 'GED',\n",
    "    4: 'hs_grad',\n",
    "    5: 'some_college',\n",
    "    6: 'associates',\n",
    "    7: 'associates',\n",
    "    8: 'bachelors',\n",
    "    9: 'masters_doctoral',\n",
    "    97:'unknown',\n",
    "    98:'unknown',\n",
    "    99:'unknown'\n",
    "}\n",
    "\n",
    "# 'food_runout' and 'food_balance'\n",
    "food = {\n",
    "    1 : 'often_true',\n",
    "    2 : 'sometimes_true',\n",
    "    3 : 'never_true',\n",
    "    7 : 'unknown',\n",
    "    8 : 'unknown',\n",
    "    9 : 'unknown'\n",
    "}\n",
    "\n",
    "# 'fam_income'\n",
    "income = {\n",
    "    1 : '0-34_999',\n",
    "    2 : '35_000-74_999',\n",
    "    3 : '75_000-99_999',\n",
    "    4 : '100_000_more',\n",
    "    96 : 'unknown',\n",
    "    99 : 'unknown'\n",
    "}\n",
    "\n",
    "# 'fam_med_den_cost'\n",
    "costs = {\n",
    "    0 : 'zero',\n",
    "    1 : 'less_than_500',\n",
    "    2 : '500-1_999',\n",
    "    3 : '2_000-2_999',\n",
    "    4 : '3_000-4_999',\n",
    "    5 : '5_000_more',\n",
    "    7 : 'unknown',\n",
    "    8 : 'unknown',\n",
    "    9 : 'unknown'\n",
    "}\n",
    "\n",
    "# 'difficult_pay_bills'\n",
    "pay_bills = {\n",
    "    1 : 'yes',\n",
    "    2 : 'no',\n",
    "    7 : 'unknown',\n",
    "    8 : 'unknown',\n",
    "    9 : 'unknown'\n",
    "}"
   ]
  },
  {
   "cell_type": "code",
   "execution_count": 95,
   "metadata": {},
   "outputs": [
    {
     "data": {
      "text/html": [
       "<div>\n",
       "<style scoped>\n",
       "    .dataframe tbody tr th:only-of-type {\n",
       "        vertical-align: middle;\n",
       "    }\n",
       "\n",
       "    .dataframe tbody tr th {\n",
       "        vertical-align: top;\n",
       "    }\n",
       "\n",
       "    .dataframe thead th {\n",
       "        text-align: right;\n",
       "    }\n",
       "</style>\n",
       "<table border=\"1\" class=\"dataframe\">\n",
       "  <thead>\n",
       "    <tr style=\"text-align: right;\">\n",
       "      <th></th>\n",
       "      <th>fam_size</th>\n",
       "      <th>fam_type</th>\n",
       "      <th>language</th>\n",
       "      <th>num_child</th>\n",
       "      <th>num_elder</th>\n",
       "      <th>max_educ</th>\n",
       "      <th>care_10</th>\n",
       "      <th>care_delayed</th>\n",
       "      <th>hosp_ovrngt</th>\n",
       "      <th>no_care_when_need</th>\n",
       "      <th>...</th>\n",
       "      <th>mos_snap_ben</th>\n",
       "      <th>fam_income</th>\n",
       "      <th>priv_health_ins</th>\n",
       "      <th>num_medicare</th>\n",
       "      <th>num_medicaid</th>\n",
       "      <th>fam_med_den_cost</th>\n",
       "      <th>difficult_pay_bills</th>\n",
       "      <th>health_cov</th>\n",
       "      <th>employer_cov</th>\n",
       "      <th>care_delayed_dum</th>\n",
       "    </tr>\n",
       "  </thead>\n",
       "  <tbody>\n",
       "    <tr>\n",
       "      <th>0</th>\n",
       "      <td>1</td>\n",
       "      <td>one_adult_no_child</td>\n",
       "      <td>english</td>\n",
       "      <td>0</td>\n",
       "      <td>1</td>\n",
       "      <td>no_hs_diploma</td>\n",
       "      <td>0</td>\n",
       "      <td>0</td>\n",
       "      <td>0</td>\n",
       "      <td>0</td>\n",
       "      <td>...</td>\n",
       "      <td>0.0</td>\n",
       "      <td>0-34_999</td>\n",
       "      <td>0</td>\n",
       "      <td>1</td>\n",
       "      <td>0</td>\n",
       "      <td>less_than_500</td>\n",
       "      <td>no</td>\n",
       "      <td>1</td>\n",
       "      <td>0.0</td>\n",
       "      <td>0</td>\n",
       "    </tr>\n",
       "    <tr>\n",
       "      <th>1</th>\n",
       "      <td>3</td>\n",
       "      <td>mult_adult_child</td>\n",
       "      <td>english</td>\n",
       "      <td>1</td>\n",
       "      <td>0</td>\n",
       "      <td>some_college</td>\n",
       "      <td>0</td>\n",
       "      <td>2</td>\n",
       "      <td>0</td>\n",
       "      <td>1</td>\n",
       "      <td>...</td>\n",
       "      <td>0.0</td>\n",
       "      <td>35_000-74_999</td>\n",
       "      <td>3</td>\n",
       "      <td>0</td>\n",
       "      <td>0</td>\n",
       "      <td>500-1_999</td>\n",
       "      <td>yes</td>\n",
       "      <td>3</td>\n",
       "      <td>3.0</td>\n",
       "      <td>1</td>\n",
       "    </tr>\n",
       "    <tr>\n",
       "      <th>2</th>\n",
       "      <td>4</td>\n",
       "      <td>mult_adult_child</td>\n",
       "      <td>english</td>\n",
       "      <td>2</td>\n",
       "      <td>0</td>\n",
       "      <td>masters_doctoral</td>\n",
       "      <td>1</td>\n",
       "      <td>0</td>\n",
       "      <td>0</td>\n",
       "      <td>0</td>\n",
       "      <td>...</td>\n",
       "      <td>0.0</td>\n",
       "      <td>100_000_more</td>\n",
       "      <td>4</td>\n",
       "      <td>0</td>\n",
       "      <td>0</td>\n",
       "      <td>500-1_999</td>\n",
       "      <td>no</td>\n",
       "      <td>4</td>\n",
       "      <td>4.0</td>\n",
       "      <td>0</td>\n",
       "    </tr>\n",
       "    <tr>\n",
       "      <th>3</th>\n",
       "      <td>3</td>\n",
       "      <td>mult_adult_child</td>\n",
       "      <td>english</td>\n",
       "      <td>1</td>\n",
       "      <td>0</td>\n",
       "      <td>associates</td>\n",
       "      <td>0</td>\n",
       "      <td>0</td>\n",
       "      <td>0</td>\n",
       "      <td>0</td>\n",
       "      <td>...</td>\n",
       "      <td>0.0</td>\n",
       "      <td>75_000-99_999</td>\n",
       "      <td>3</td>\n",
       "      <td>0</td>\n",
       "      <td>0</td>\n",
       "      <td>2_000-2_999</td>\n",
       "      <td>no</td>\n",
       "      <td>3</td>\n",
       "      <td>3.0</td>\n",
       "      <td>0</td>\n",
       "    </tr>\n",
       "    <tr>\n",
       "      <th>4</th>\n",
       "      <td>1</td>\n",
       "      <td>one_adult_no_child</td>\n",
       "      <td>english</td>\n",
       "      <td>0</td>\n",
       "      <td>1</td>\n",
       "      <td>no_hs_diploma</td>\n",
       "      <td>1</td>\n",
       "      <td>1</td>\n",
       "      <td>0</td>\n",
       "      <td>1</td>\n",
       "      <td>...</td>\n",
       "      <td>12.0</td>\n",
       "      <td>0-34_999</td>\n",
       "      <td>1</td>\n",
       "      <td>1</td>\n",
       "      <td>0</td>\n",
       "      <td>500-1_999</td>\n",
       "      <td>yes</td>\n",
       "      <td>1</td>\n",
       "      <td>0.0</td>\n",
       "      <td>1</td>\n",
       "    </tr>\n",
       "  </tbody>\n",
       "</table>\n",
       "<p>5 rows × 27 columns</p>\n",
       "</div>"
      ],
      "text/plain": [
       "   fam_size            fam_type language  num_child  num_elder  \\\n",
       "0         1  one_adult_no_child  english          0          1   \n",
       "1         3    mult_adult_child  english          1          0   \n",
       "2         4    mult_adult_child  english          2          0   \n",
       "3         3    mult_adult_child  english          1          0   \n",
       "4         1  one_adult_no_child  english          0          1   \n",
       "\n",
       "           max_educ  care_10  care_delayed  hosp_ovrngt  no_care_when_need  \\\n",
       "0     no_hs_diploma        0             0            0                  0   \n",
       "1      some_college        0             2            0                  1   \n",
       "2  masters_doctoral        1             0            0                  0   \n",
       "3        associates        0             0            0                  0   \n",
       "4     no_hs_diploma        1             1            0                  1   \n",
       "\n",
       "   ... mos_snap_ben     fam_income  priv_health_ins  num_medicare  \\\n",
       "0  ...          0.0       0-34_999                0             1   \n",
       "1  ...          0.0  35_000-74_999                3             0   \n",
       "2  ...          0.0   100_000_more                4             0   \n",
       "3  ...          0.0  75_000-99_999                3             0   \n",
       "4  ...         12.0       0-34_999                1             1   \n",
       "\n",
       "   num_medicaid  fam_med_den_cost  difficult_pay_bills  health_cov  \\\n",
       "0             0     less_than_500                   no           1   \n",
       "1             0         500-1_999                  yes           3   \n",
       "2             0         500-1_999                   no           4   \n",
       "3             0       2_000-2_999                   no           3   \n",
       "4             0         500-1_999                  yes           1   \n",
       "\n",
       "  employer_cov  care_delayed_dum  \n",
       "0          0.0                 0  \n",
       "1          3.0                 1  \n",
       "2          4.0                 0  \n",
       "3          3.0                 0  \n",
       "4          0.0                 1  \n",
       "\n",
       "[5 rows x 27 columns]"
      ]
     },
     "execution_count": 95,
     "metadata": {},
     "output_type": "execute_result"
    }
   ],
   "source": [
    "health = data[features].copy() # copy of og data frame with selected columns\n",
    "health.columns = health.columns.map(new_col_names) # rename columns\n",
    "\n",
    "# rename variables from ordinal values to labels \n",
    "health['fam_type'] = health['fam_type'].map(family_types)\n",
    "health['language'] = health['language'].map(languages)\n",
    "health['max_educ'] = health['max_educ'].map(education)\n",
    "health['food_runout'] = health['food_runout'].map(food)\n",
    "health['food_balance'] = health['food_balance'].map(food)\n",
    "health['fam_income'] = health['fam_income'].map(income)\n",
    "health['fam_med_den_cost'] = health['fam_med_den_cost'].map(costs)\n",
    "health['difficult_pay_bills'] = health['difficult_pay_bills'].map(pay_bills)\n",
    "\n",
    "# fill NaN w/ 0s\n",
    "health['mos_snap_ben'] = health['mos_snap_ben'].fillna(0)\n",
    "health['mos_snap_ben'] = health['mos_snap_ben'].map(lambda x: 0 if (x > 12) else x)\n",
    "health['employer_cov'] = health['employer_cov'].fillna(0)\n",
    "\n",
    "# creating a dummy column of the target variable 0 = 0, >0 = 1\n",
    "health['care_delayed_dum'] = [0 if entry == 0 else 1 for entry in health['care_delayed']]\n",
    "\n",
    "health.head()"
   ]
  },
  {
   "cell_type": "code",
   "execution_count": 96,
   "metadata": {},
   "outputs": [
    {
     "data": {
      "text/plain": [
       "0"
      ]
     },
     "execution_count": 96,
     "metadata": {},
     "output_type": "execute_result"
    }
   ],
   "source": [
    "health.isnull().sum().sum()"
   ]
  },
  {
   "cell_type": "markdown",
   "metadata": {},
   "source": [
    "## Eploratory Data Analysis"
   ]
  },
  {
   "cell_type": "code",
   "execution_count": 86,
   "metadata": {},
   "outputs": [
    {
     "data": {
      "image/png": "[encoded data removed]",
      "text/plain": [
       "<Figure size 432x288 with 1 Axes>"
      ]
     },
     "metadata": {
      "needs_background": "light"
     },
     "output_type": "display_data"
    }
   ],
   "source": [
    "plt.hist(health['care_delayed']);"
   ]
  },
  {
   "cell_type": "code",
   "execution_count": 89,
   "metadata": {},
   "outputs": [
    {
     "data": {
      "text/plain": [
       "0    0.858920\n",
       "1    0.116401\n",
       "2    0.019004\n",
       "3    0.003530\n",
       "4    0.001485\n",
       "5    0.000462\n",
       "6    0.000099\n",
       "8    0.000066\n",
       "7    0.000033\n",
       "Name: care_delayed, dtype: float64"
      ]
     },
     "execution_count": 89,
     "metadata": {},
     "output_type": "execute_result"
    }
   ],
   "source": [
    "health['care_delayed'].value_counts(normalize=True)"
   ]
  },
  {
   "cell_type": "code",
   "execution_count": 93,
   "metadata": {},
   "outputs": [],
   "source": [
    "# creating a dummy column of the target variable 0 = 0, >0 = 1\n",
    "health['care_delayed_dum'] = [0 if entry == 0 else 1 for entry in health['care_delayed']]"
   ]
  },
  {
   "cell_type": "code",
   "execution_count": 94,
   "metadata": {},
   "outputs": [
    {
     "data": {
      "text/plain": [
       "0    0.85892\n",
       "1    0.14108\n",
       "Name: care_delayed_dum, dtype: float64"
      ]
     },
     "execution_count": 94,
     "metadata": {},
     "output_type": "execute_result"
    }
   ],
   "source": [
    "health['care_delayed_dum'].value_counts(normalize=True)"
   ]
  },
  {
   "cell_type": "code",
   "execution_count": null,
   "metadata": {},
   "outputs": [],
   "source": []
  }
 ],
 "metadata": {
  "kernelspec": {
   "display_name": "Python [conda env:dsi] *",
   "language": "python",
   "name": "conda-env-dsi-py"
  },
  "language_info": {
   "codemirror_mode": {
    "name": "ipython",
    "version": 3
   },
   "file_extension": ".py",
   "mimetype": "text/x-python",
   "name": "python",
   "nbconvert_exporter": "python",
   "pygments_lexer": "ipython3",
   "version": "3.7.7"
  }
 },
 "nbformat": 4,
 "nbformat_minor": 4
}
